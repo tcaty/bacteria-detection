{
 "cells": [
  {
   "cell_type": "code",
   "execution_count": 2,
   "metadata": {},
   "outputs": [],
   "source": [
    "import torch\n",
    "import torch.nn as nn\n",
    "from torch.optim import lr_scheduler"
   ]
  },
  {
   "cell_type": "code",
   "execution_count": 3,
   "metadata": {},
   "outputs": [],
   "source": [
    "def conv2d_size_out(size: int, kernel_size: int, padding: int = 0, dilation: int = 1, stride: int = 1) -> int:\n",
    "    return (size + 2 * padding - dilation * (kernel_size - 1) - 1) // stride + 1 \n",
    "\n",
    "def conv_transpose_2d_out(size: int, kernel_size: int, stride: int = 1, padding: int = 0, output_padding: int = 0, dilation: int = 1) -> int:\n",
    "    return (size - 1) * stride - 2 * padding + dilation * (kernel_size - 1) + output_padding + 1"
   ]
  },
  {
   "cell_type": "code",
   "execution_count": 4,
   "metadata": {},
   "outputs": [
    {
     "name": "stdout",
     "output_type": "stream",
     "text": [
      "\n",
      "Predict:\n",
      "conv2d_size_out = 9\n",
      "conv_transpose_2d_out = 85\n",
      "\n",
      "Real:\n",
      "conv2d_size_out = torch.Size([16, 9, 9])\n",
      "conv_transpose_2d_out = torch.Size([100, 85, 85])\n",
      "\n"
     ]
    }
   ],
   "source": [
    "x = torch.randn((1, 28, 28))\n",
    "\n",
    "conv2d_args = {\"kernel_size\": 4, \"stride\": 3}\n",
    "conv_transpose_2d_args = {\"kernel_size\": 4, \"stride\": 3}\n",
    "\n",
    "print(f\"\"\"\n",
    "Predict:\n",
    "conv2d_size_out = {conv2d_size_out(size=28, **conv2d_args)}\n",
    "conv_transpose_2d_out = {conv_transpose_2d_out(size=28, **conv_transpose_2d_args)}\n",
    "\n",
    "Real:\n",
    "conv2d_size_out = {nn.Conv2d(1, 16, **conv2d_args)(x).shape}\n",
    "conv_transpose_2d_out = {nn.ConvTranspose2d(1, 100, **conv_transpose_2d_args)(x).shape}\n",
    "\"\"\")"
   ]
  },
  {
   "attachments": {},
   "cell_type": "markdown",
   "metadata": {},
   "source": [
    "### Discriminator: 28x28 -> 16x16 -> 8x8 -> 4x4 -> 1\n",
    "### Generator: 4x4 -> 7x7 -> 14x14 -> 28x28"
   ]
  },
  {
   "cell_type": "code",
   "execution_count": 5,
   "metadata": {},
   "outputs": [
    {
     "name": "stdout",
     "output_type": "stream",
     "text": [
      "7\n",
      "14\n",
      "28\n"
     ]
    }
   ],
   "source": [
    "s = conv_transpose_2d_out(size=4, kernel_size=4, stride=1)\n",
    "print(s)\n",
    "s = conv_transpose_2d_out(size=s, kernel_size=4, stride=2, padding=1)\n",
    "print(s)\n",
    "s = conv_transpose_2d_out(size=s, kernel_size=4, stride=2, padding=1)\n",
    "print(s)"
   ]
  },
  {
   "cell_type": "code",
   "execution_count": 6,
   "metadata": {},
   "outputs": [
    {
     "data": {
      "text/plain": [
       "torch.Size([20, 1, 24, 24])"
      ]
     },
     "execution_count": 6,
     "metadata": {},
     "output_type": "execute_result"
    }
   ],
   "source": [
    "def block(in_channels: int, out_channels: int, kernel_size: int, stride: int, padding: int):\n",
    "    return [\n",
    "        nn.ConvTranspose2d(\n",
    "            in_channels,\n",
    "            out_channels,\n",
    "            kernel_size=kernel_size,\n",
    "            stride=stride,\n",
    "            padding=padding,\n",
    "            bias=False,\n",
    "        ),\n",
    "        nn.BatchNorm2d(out_channels),\n",
    "        nn.ReLU(True),\n",
    "    ]\n",
    "\n",
    "model = nn.Sequential(\n",
    "    *block(in_channels=10, out_channels=64, kernel_size=4, stride=1, padding=0),\n",
    "    *block(in_channels=64, out_channels=64, kernel_size=8, stride=2, padding=1),\n",
    "    nn.ConvTranspose2d(\n",
    "        in_channels=64, out_channels=1, kernel_size=4, stride=2, padding=1\n",
    "    ),\n",
    "    nn.Tanh()\n",
    ")\n",
    "\n",
    "model(torch.randn(20, 10, 1, 1)).shape\n"
   ]
  },
  {
   "cell_type": "code",
   "execution_count": 7,
   "metadata": {},
   "outputs": [
    {
     "data": {
      "text/plain": [
       "torch.Size([100, 1, 1, 1])"
      ]
     },
     "execution_count": 7,
     "metadata": {},
     "output_type": "execute_result"
    }
   ],
   "source": [
    "def block(in_channel: int, out_channels: int, norm: bool = True):\n",
    "    layers: List[Any] = [\n",
    "        nn.Conv2d(\n",
    "            in_channels=in_channel,\n",
    "            out_channels=out_channels,\n",
    "            kernel_size=(4, 4),\n",
    "            stride=2,\n",
    "            padding=1,\n",
    "            bias=False,\n",
    "        ),\n",
    "    ]\n",
    "    if norm:\n",
    "        layers.append(nn.BatchNorm2d(out_channels, affine=True))\n",
    "        layers.append(nn.LeakyReLU(0.2, inplace=True))\n",
    "    return layers\n",
    "\n",
    "model = nn.Sequential(\n",
    "    *block(1, 64, norm=False),\n",
    "    *block(64, 128),\n",
    "    # *block(128, 256),\n",
    "    *block(128, 256),\n",
    "    nn.Conv2d(256, 1, kernel_size=7, stride=2, bias=False),\n",
    ")\n",
    "\n",
    "y = model(torch.randn(100, 1, 64, 64))\n",
    "y.shape"
   ]
  },
  {
   "cell_type": "code",
   "execution_count": 8,
   "metadata": {},
   "outputs": [
    {
     "name": "stderr",
     "output_type": "stream",
     "text": [
      "/opt/conda/envs/venv/lib/python3.10/site-packages/torch/optim/lr_scheduler.py:139: UserWarning: Detected call of `lr_scheduler.step()` before `optimizer.step()`. In PyTorch 1.1.0 and later, you should call them in the opposite order: `optimizer.step()` before `lr_scheduler.step()`.  Failure to do this will result in PyTorch skipping the first value of the learning rate schedule. See more details at https://pytorch.org/docs/stable/optim.html#how-to-adjust-learning-rate\n",
      "  warnings.warn(\"Detected call of `lr_scheduler.step()` before `optimizer.step()`. \"\n"
     ]
    }
   ],
   "source": [
    "optim = torch.optim.Adam([torch.rand((10, ))], lr=0.001)\n",
    "scheduler = lr_scheduler.ConstantLR(optim, factor=0.9, total_iters=10)\n",
    "for i in range(10):\n",
    "    scheduler.step()"
   ]
  },
  {
   "cell_type": "code",
   "execution_count": 9,
   "metadata": {},
   "outputs": [
    {
     "name": "stdout",
     "output_type": "stream",
     "text": [
      "[0.001]\n",
      "[0.001]\n",
      "[0.001]\n",
      "[0.001]\n",
      "[0.001]\n",
      "[0.001]\n",
      "[0.0008281]\n",
      "[0.0007389010989010989]\n",
      "[0.0006498780487804878]\n",
      "[0.0005610958904109588]\n",
      "[0.00047265624999999993]\n",
      "[0.0003847272727272727]\n",
      "[0.00029760869565217393]\n",
      "[0.00021189189189189193]\n",
      "[0.00012892857142857145]\n",
      "[5.2631578947368444e-05]\n",
      "[0.00010000000000000003]\n",
      "[0.00010000000000000003]\n",
      "[0.00010000000000000003]\n",
      "[0.00010000000000000003]\n"
     ]
    },
    {
     "name": "stderr",
     "output_type": "stream",
     "text": [
      "/opt/conda/envs/venv/lib/python3.10/site-packages/torch/optim/lr_scheduler.py:558: UserWarning: To get the last learning rate computed by the scheduler, please use `get_last_lr()`.\n",
      "  warnings.warn(\"To get the last learning rate computed by the scheduler, \"\n"
     ]
    }
   ],
   "source": [
    "optim = torch.optim.Adam([torch.rand((10, ))], lr=0.001)\n",
    "scheduler = lr_scheduler.LinearLR(optim, start_factor=1, end_factor=0.1, total_iters=10)\n",
    "for i in range(20):\n",
    "    if i > 5:\n",
    "        scheduler.step()\n",
    "    print(scheduler.get_lr())"
   ]
  },
  {
   "cell_type": "code",
   "execution_count": 10,
   "metadata": {},
   "outputs": [
    {
     "data": {
      "text/plain": [
       "NN()"
      ]
     },
     "execution_count": 10,
     "metadata": {},
     "output_type": "execute_result"
    }
   ],
   "source": [
    "class NN(nn.Module):\n",
    "    def __init__(self, *args, **kwargs) -> None:\n",
    "        super().__init__(*args, **kwargs)\n",
    "        \n",
    "def weights_init(m):\n",
    "    classname = m.__class__.__name__\n",
    "    if classname.find('Conv') != -1:\n",
    "        m.weight.data.normal_(0.0, 0.02)\n",
    "    elif classname.find('BatchNorm') != -1:\n",
    "        m.weight.data.normal_(1.0, 0.02)\n",
    "        m.bias.data.fill_(0)\n",
    "\n",
    "nn = NN()\n",
    "nn.apply(weights_init)"
   ]
  },
  {
   "cell_type": "code",
   "execution_count": null,
   "metadata": {},
   "outputs": [],
   "source": []
  }
 ],
 "metadata": {
  "kernelspec": {
   "display_name": "venv",
   "language": "python",
   "name": "python3"
  },
  "language_info": {
   "codemirror_mode": {
    "name": "ipython",
    "version": 3
   },
   "file_extension": ".py",
   "mimetype": "text/x-python",
   "name": "python",
   "nbconvert_exporter": "python",
   "pygments_lexer": "ipython3",
   "version": "3.10.9"
  },
  "orig_nbformat": 4,
  "vscode": {
   "interpreter": {
    "hash": "ec5511c57591959bfe383097d4c77eeb724c9a6ac951d9eef9284c9544b2033b"
   }
  }
 },
 "nbformat": 4,
 "nbformat_minor": 2
}
