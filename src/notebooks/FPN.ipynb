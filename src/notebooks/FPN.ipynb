{
 "cells": [
  {
   "cell_type": "code",
   "execution_count": 1,
   "metadata": {},
   "outputs": [],
   "source": [
    "import sys\n",
    "import os\n",
    "\n",
    "pwd = os.getcwd()\n",
    "python_path = pwd[: pwd.rfind(\"/\")]\n",
    "sys.path.append(python_path)"
   ]
  },
  {
   "cell_type": "code",
   "execution_count": 2,
   "metadata": {},
   "outputs": [
    {
     "data": {
      "text/html": [
       "\n",
       "                <script type=\"application/javascript\" id=\"jupyter_black\">\n",
       "                (function() {\n",
       "                    if (window.IPython === undefined) {\n",
       "                        return\n",
       "                    }\n",
       "                    var msg = \"WARNING: it looks like you might have loaded \" +\n",
       "                        \"jupyter_black in a non-lab notebook with \" +\n",
       "                        \"`is_lab=True`. Please double check, and if \" +\n",
       "                        \"loading with `%load_ext` please review the README!\"\n",
       "                    console.log(msg)\n",
       "                    alert(msg)\n",
       "                })()\n",
       "                </script>\n",
       "                "
      ],
      "text/plain": [
       "<IPython.core.display.HTML object>"
      ]
     },
     "metadata": {},
     "output_type": "display_data"
    }
   ],
   "source": [
    "import torch\n",
    "import lightning as pl\n",
    "import jupyter_black\n",
    "import segmentation_models_pytorch as smp\n",
    "from data import FakeBacteriasDataModule\n",
    "from models import BacteriasBinarySegmentation\n",
    "from utils import show_images\n",
    "from lightning.pytorch.loggers import TensorBoardLogger\n",
    "\n",
    "jupyter_black.load()\n",
    "torch.set_float32_matmul_precision(\"high\")"
   ]
  },
  {
   "cell_type": "code",
   "execution_count": 3,
   "metadata": {},
   "outputs": [
    {
     "name": "stdout",
     "output_type": "stream",
     "text": [
      "Image shape: torch.Size([1, 64, 64])\n"
     ]
    },
    {
     "data": {
      "image/png": "[encoded data removed]",
      "text/plain": [
       "<Figure size 700x700 with 2 Axes>"
      ]
     },
     "metadata": {},
     "output_type": "display_data"
    }
   ],
   "source": [
    "datamodule = FakeBacteriasDataModule(\n",
    "    batch_size=1, num_workers=0, shuffle=True, train_size=0.9, val_size=0.1, limit=3000\n",
    ")\n",
    "datamodule.setup(\"fit\")\n",
    "loader = datamodule.train_dataloader()\n",
    "for i, batch in enumerate(loader):\n",
    "    x, y = batch\n",
    "    print(f\"Image shape: {x[0].shape}\")\n",
    "    show_images(\n",
    "        [\n",
    "            (x[0].detach().numpy().squeeze(), \"x\"),\n",
    "            (y[0].detach().numpy().squeeze(), \"y\"),\n",
    "        ],\n",
    "        size_inches=(7, 7),\n",
    "    )\n",
    "    break"
   ]
  },
  {
   "cell_type": "code",
   "execution_count": 12,
   "metadata": {},
   "outputs": [],
   "source": [
    "class FPN(pl.LightningModule):\n",
    "    def __init__(self, lr: float = 0.01):\n",
    "        super().__init__()\n",
    "        self.save_hyperparameters()\n",
    "        self.model = smp.create_model(\n",
    "            \"FPN\",\n",
    "            \"resnet34\",\n",
    "            in_channels=1,\n",
    "            classes=1,\n",
    "        )\n",
    "        self.step_outputs = []\n",
    "\n",
    "    def configure_optimizers(self):\n",
    "        lr: float = self.hparams.lr  # type: ignore\n",
    "        return torch.optim.Adam(self.parameters(), lr=lr, betas=(0.5, 0.99))\n",
    "\n",
    "    def loss(self, y: torch.Tensor, y_hat: torch.Tensor) -> torch.Tensor:\n",
    "        loss_fn = smp.losses.DiceLoss(smp.losses.BINARY_MODE, from_logits=True)\n",
    "        return loss_fn(y, y_hat)\n",
    "\n",
    "    def forward(self, x: torch.Tensor):\n",
    "        y_hat = self.model(x)\n",
    "        y_hat = y_hat.sigmoid()\n",
    "        return y_hat\n",
    "\n",
    "    def shared_step(self, batch: tuple, stage: str):\n",
    "        x, y = batch\n",
    "\n",
    "        y_hat = self.forward(x)\n",
    "        loss = self.loss(y, y_hat)\n",
    "\n",
    "        pred_mask = (y_hat > 0.5).float()\n",
    "        stats = smp.metrics.get_stats(pred_mask.long(), y.long(), mode=\"binary\")\n",
    "        self.step_outputs.append(stats)\n",
    "\n",
    "        self.log_dict({\"loss\": loss}, prog_bar=True)\n",
    "        return loss\n",
    "\n",
    "    def shared_epoch_end(self, stage: str):\n",
    "        stats_count = len((self.step_outputs[0]))\n",
    "        get_stat = lambda i: torch.cat([output[i] for output in self.step_outputs])\n",
    "        stats = [get_stat(i) for i in range(stats_count)]\n",
    "\n",
    "        per_image_iou = smp.metrics.iou_score(*stats, reduction=\"micro-imagewise\")\n",
    "        dataset_iou = smp.metrics.iou_score(*stats, reduction=\"micro\")\n",
    "\n",
    "        metrics = {\n",
    "            f\"{stage}_per_image_iou\": per_image_iou,\n",
    "            f\"{stage}_dataset_iou\": dataset_iou,\n",
    "        }\n",
    "\n",
    "        self.log_dict(metrics, prog_bar=False)\n",
    "        if stage != \"valid\":\n",
    "            self.step_outputs.clear()\n",
    "\n",
    "    def training_step(self, batch, batch_idx):\n",
    "        return self.shared_step(batch, \"train\")\n",
    "\n",
    "    def on_train_epoch_end(self):\n",
    "        return self.shared_epoch_end(\"train\")\n",
    "\n",
    "    def validation_step(self, batch, batch_idx):\n",
    "        return self.shared_step(batch, \"valid\")\n",
    "\n",
    "    def on_validation_epoch_end(self):\n",
    "        return self.shared_epoch_end(\"valid\")\n",
    "\n",
    "    def test_step(self, batch, batch_idx):\n",
    "        return self.shared_step(batch, \"test\")\n",
    "\n",
    "    def on_test_epoch_end(self):\n",
    "        return self.shared_epoch_end(\"test\")"
   ]
  },
  {
   "cell_type": "code",
   "execution_count": null,
   "metadata": {},
   "outputs": [],
   "source": [
    "BATCH_SIZE = 128\n",
    "NUM_WORKERS = 1\n",
    "SHUFFLE = False\n",
    "TRAIN_SIZE, VAL_SIZE = 0.9, 0.1\n",
    "LIMIT = 3000\n",
    "LR = 0.001\n",
    "EPOCHS = 20\n",
    "\n",
    "fpn = FPN(lr=LR)\n",
    "logger = (TensorBoardLogger(save_dir=\"../../logs/fpn\"),)\n",
    "datamodule = FakeBacteriasDataModule(\n",
    "    batch_size=BATCH_SIZE,\n",
    "    num_workers=NUM_WORKERS,\n",
    "    shuffle=SHUFFLE,\n",
    "    train_size=TRAIN_SIZE,\n",
    "    val_size=VAL_SIZE,\n",
    "    limit=LIMIT,\n",
    ")\n",
    "\n",
    "trainer = pl.Trainer(\n",
    "    max_epochs=EPOCHS, accelerator=\"gpu\", devices=1, logger=logger, log_every_n_steps=10\n",
    ")\n",
    "_ = trainer.fit(model=fpn, datamodule=datamodule)"
   ]
  },
  {
   "cell_type": "code",
   "execution_count": 6,
   "metadata": {},
   "outputs": [
    {
     "name": "stderr",
     "output_type": "stream",
     "text": [
      "LOCAL_RANK: 0 - CUDA_VISIBLE_DEVICES: [0]\n",
      "/opt/conda/envs/venv/lib/python3.10/site-packages/lightning/pytorch/trainer/connectors/data_connector.py:430: PossibleUserWarning: The dataloader, test_dataloader, does not have many workers which may be a bottleneck. Consider increasing the value of the `num_workers` argument` (try 32 which is the number of cpus on this machine) in the `DataLoader` init to improve performance.\n",
      "  rank_zero_warn(\n"
     ]
    },
    {
     "data": {
      "application/vnd.jupyter.widget-view+json": {
       "model_id": "f03c331f2ef94bdeb5579286e6ec5e83",
       "version_major": 2,
       "version_minor": 0
      },
      "text/plain": [
       "Testing: 0it [00:00, ?it/s]"
      ]
     },
     "metadata": {},
     "output_type": "display_data"
    },
    {
     "data": {
      "text/html": [
       "<pre style=\"white-space:pre;overflow-x:auto;line-height:normal;font-family:Menlo,'DejaVu Sans Mono',consolas,'Courier New',monospace\">┏━━━━━━━━━━━━━━━━━━━━━━━━━━━┳━━━━━━━━━━━━━━━━━━━━━━━━━━━┓\n",
       "┃<span style=\"font-weight: bold\">        Test metric        </span>┃<span style=\"font-weight: bold\">       DataLoader 0        </span>┃\n",
       "┡━━━━━━━━━━━━━━━━━━━━━━━━━━━╇━━━━━━━━━━━━━━━━━━━━━━━━━━━┩\n",
       "│<span style=\"color: #008080; text-decoration-color: #008080\">           loss            </span>│<span style=\"color: #800080; text-decoration-color: #800080\">    0.35261428356170654    </span>│\n",
       "└───────────────────────────┴───────────────────────────┘\n",
       "</pre>\n"
      ],
      "text/plain": [
       "┏━━━━━━━━━━━━━━━━━━━━━━━━━━━┳━━━━━━━━━━━━━━━━━━━━━━━━━━━┓\n",
       "┃\u001b[1m \u001b[0m\u001b[1m       Test metric       \u001b[0m\u001b[1m \u001b[0m┃\u001b[1m \u001b[0m\u001b[1m      DataLoader 0       \u001b[0m\u001b[1m \u001b[0m┃\n",
       "┡━━━━━━━━━━━━━━━━━━━━━━━━━━━╇━━━━━━━━━━━━━━━━━━━━━━━━━━━┩\n",
       "│\u001b[36m \u001b[0m\u001b[36m          loss           \u001b[0m\u001b[36m \u001b[0m│\u001b[35m \u001b[0m\u001b[35m   0.35261428356170654   \u001b[0m\u001b[35m \u001b[0m│\n",
       "└───────────────────────────┴───────────────────────────┘\n"
      ]
     },
     "metadata": {},
     "output_type": "display_data"
    }
   ],
   "source": [
    "_ = trainer.test(fpn, datamodule)"
   ]
  },
  {
   "cell_type": "code",
   "execution_count": 16,
   "metadata": {},
   "outputs": [
    {
     "name": "stdout",
     "output_type": "stream",
     "text": [
      "torch.Size([128, 1, 64, 64])\n"
     ]
    },
    {
     "data": {
      "image/png": "[encoded data removed]",
      "text/plain": [
       "<Figure size 1000x1000 with 3 Axes>"
      ]
     },
     "metadata": {},
     "output_type": "display_data"
    }
   ],
   "source": [
    "batch = next(iter(datamodule.val_dataloader()))\n",
    "with torch.no_grad():\n",
    "    fpn.eval()\n",
    "    x, y = batch\n",
    "    y_hat = fpn(x)\n",
    "show_images(\n",
    "    [\n",
    "        (x.detach()[0].numpy().squeeze(), \"x\"),\n",
    "        (y.detach()[0].numpy().squeeze(), \"y\"),\n",
    "        (y_hat.detach()[0].numpy().squeeze(), \"y_hat\"),\n",
    "    ],\n",
    "    grid=(1, 3),\n",
    ")"
   ]
  },
  {
   "cell_type": "code",
   "execution_count": null,
   "metadata": {},
   "outputs": [],
   "source": []
  }
 ],
 "metadata": {
  "kernelspec": {
   "display_name": "venv",
   "language": "python",
   "name": "python3"
  },
  "language_info": {
   "codemirror_mode": {
    "name": "ipython",
    "version": 3
   },
   "file_extension": ".py",
   "mimetype": "text/x-python",
   "name": "python",
   "nbconvert_exporter": "python",
   "pygments_lexer": "ipython3",
   "version": "3.10.9"
  },
  "orig_nbformat": 4
 },
 "nbformat": 4,
 "nbformat_minor": 2
}
