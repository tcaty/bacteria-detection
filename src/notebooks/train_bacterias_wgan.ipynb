{
 "cells": [
  {
   "cell_type": "code",
   "execution_count": 2,
   "metadata": {},
   "outputs": [],
   "source": [
    "import sys\n",
    "import os\n",
    "\n",
    "pwd = os.getcwd()\n",
    "python_path = pwd[: pwd.rfind(\"/\")]\n",
    "sys.path.append(python_path)"
   ]
  },
  {
   "cell_type": "code",
   "execution_count": 3,
   "metadata": {},
   "outputs": [
    {
     "data": {
      "text/html": [
       "\n",
       "                <script type=\"application/javascript\" id=\"jupyter_black\">\n",
       "                (function() {\n",
       "                    if (window.IPython === undefined) {\n",
       "                        return\n",
       "                    }\n",
       "                    var msg = \"WARNING: it looks like you might have loaded \" +\n",
       "                        \"jupyter_black in a non-lab notebook with \" +\n",
       "                        \"`is_lab=True`. Please double check, and if \" +\n",
       "                        \"loading with `%load_ext` please review the README!\"\n",
       "                    console.log(msg)\n",
       "                    alert(msg)\n",
       "                })()\n",
       "                </script>\n",
       "                "
      ],
      "text/plain": [
       "<IPython.core.display.HTML object>"
      ]
     },
     "metadata": {},
     "output_type": "display_data"
    }
   ],
   "source": [
    "import torch\n",
    "import lightning\n",
    "import jupyter_black\n",
    "\n",
    "from models import WGAN\n",
    "from constants import VAL_BACTERIAS_PATH\n",
    "from data import BacteriasDataModule\n",
    "from lightning.pytorch.loggers import TensorBoardLogger\n",
    "\n",
    "torch.set_float32_matmul_precision(precision=\"high\")\n",
    "jupyter_black.load()"
   ]
  },
  {
   "cell_type": "code",
   "execution_count": 3,
   "metadata": {},
   "outputs": [
    {
     "name": "stderr",
     "output_type": "stream",
     "text": [
      "GPU available: True (cuda), used: True\n",
      "TPU available: False, using: 0 TPU cores\n",
      "IPU available: False, using: 0 IPUs\n",
      "HPU available: False, using: 0 HPUs\n",
      "LOCAL_RANK: 0 - CUDA_VISIBLE_DEVICES: [0]\n",
      "\n",
      "  | Name | Type          | Params\n",
      "---------------------------------------\n",
      "0 | D    | Discriminator | 2.8 M \n",
      "1 | G    | Generator     | 3.6 M \n",
      "---------------------------------------\n",
      "6.3 M     Trainable params\n",
      "0         Non-trainable params\n",
      "6.3 M     Total params\n",
      "25.353    Total estimated model params size (MB)\n",
      "/opt/conda/envs/venv/lib/python3.10/site-packages/lightning/pytorch/trainer/connectors/data_connector.py:430: PossibleUserWarning: The dataloader, train_dataloader, does not have many workers which may be a bottleneck. Consider increasing the value of the `num_workers` argument` (try 32 which is the number of cpus on this machine) in the `DataLoader` init to improve performance.\n",
      "  rank_zero_warn(\n",
      "/opt/conda/envs/venv/lib/python3.10/site-packages/lightning/pytorch/loops/fit_loop.py:280: PossibleUserWarning: The number of training batches (9) is smaller than the logging interval Trainer(log_every_n_steps=10). Set a lower value for log_every_n_steps if you want to see logs for the training epoch.\n",
      "  rank_zero_warn(\n"
     ]
    },
    {
     "data": {
      "application/vnd.jupyter.widget-view+json": {
       "model_id": "dc24a5caa923415eb3d0824d75501bda",
       "version_major": 2,
       "version_minor": 0
      },
      "text/plain": [
       "Training: 0it [00:00, ?it/s]"
      ]
     },
     "metadata": {},
     "output_type": "display_data"
    },
    {
     "name": "stderr",
     "output_type": "stream",
     "text": [
      "\n",
      "KeyboardInterrupt\n",
      "\n"
     ]
    }
   ],
   "source": [
    "# Data Module hyper parameters\n",
    "BATCH_SIZE = 256\n",
    "NUM_WORKERS = 0\n",
    "SHUFFLE = True\n",
    "\n",
    "# Trainer hyper parameteres\n",
    "MAX_EPOCHS = 200\n",
    "\n",
    "# WGAN hyper parameters\n",
    "D_LR = 0.0002\n",
    "G_LR = 0.001\n",
    "G_OPTIM_FREQUENCY = 1\n",
    "D_OPTIM_FREQUENCY = 4\n",
    "G_LATENT_DIMS = 100\n",
    "\n",
    "bacterias_data_module = BacteriasDataModule(\n",
    "    batch_size=BATCH_SIZE, num_workers=NUM_WORKERS, shuffle=SHUFFLE\n",
    ")\n",
    "\n",
    "wgan = WGAN(\n",
    "    G_latent_dims=G_LATENT_DIMS,\n",
    "    D_lr=D_LR,\n",
    "    G_lr=G_LR,\n",
    "    G_optim_frequency=G_OPTIM_FREQUENCY,\n",
    "    D_optim_frequency=D_OPTIM_FREQUENCY,\n",
    "    val_imgs_dir_path=VAL_BACTERIAS_PATH\n",
    ")\n",
    "\n",
    "trainer = lightning.Trainer(\n",
    "    max_epochs=MAX_EPOCHS,\n",
    "    accelerator=\"gpu\",\n",
    "    devices=1,\n",
    "    log_every_n_steps=10,\n",
    "    logger=TensorBoardLogger(save_dir=\"../../logs/bacterias_wgan\"),\n",
    ")\n",
    "trainer.fit(wgan, bacterias_data_module)"
   ]
  }
 ],
 "metadata": {
  "kernelspec": {
   "display_name": "venv",
   "language": "python",
   "name": "python3"
  },
  "language_info": {
   "codemirror_mode": {
    "name": "ipython",
    "version": 3
   },
   "file_extension": ".py",
   "mimetype": "text/x-python",
   "name": "python",
   "nbconvert_exporter": "python",
   "pygments_lexer": "ipython3",
   "version": "3.10.9"
  },
  "orig_nbformat": 4,
  "vscode": {
   "interpreter": {
    "hash": "ec5511c57591959bfe383097d4c77eeb724c9a6ac951d9eef9284c9544b2033b"
   }
  }
 },
 "nbformat": 4,
 "nbformat_minor": 2
}
