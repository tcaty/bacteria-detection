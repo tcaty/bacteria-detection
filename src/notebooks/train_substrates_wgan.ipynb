{
 "cells": [
  {
   "cell_type": "code",
   "execution_count": 1,
   "metadata": {},
   "outputs": [],
   "source": [
    "import sys\n",
    "import os\n",
    "\n",
    "pwd = os.getcwd()\n",
    "python_path = pwd[: pwd.rfind(\"/\")]\n",
    "sys.path.append(python_path)"
   ]
  },
  {
   "cell_type": "code",
   "execution_count": 2,
   "metadata": {},
   "outputs": [
    {
     "data": {
      "text/html": [
       "\n",
       "                <script type=\"application/javascript\" id=\"jupyter_black\">\n",
       "                (function() {\n",
       "                    if (window.IPython === undefined) {\n",
       "                        return\n",
       "                    }\n",
       "                    var msg = \"WARNING: it looks like you might have loaded \" +\n",
       "                        \"jupyter_black in a non-lab notebook with \" +\n",
       "                        \"`is_lab=True`. Please double check, and if \" +\n",
       "                        \"loading with `%load_ext` please review the README!\"\n",
       "                    console.log(msg)\n",
       "                    alert(msg)\n",
       "                })()\n",
       "                </script>\n",
       "                "
      ],
      "text/plain": [
       "<IPython.core.display.HTML object>"
      ]
     },
     "metadata": {},
     "output_type": "display_data"
    }
   ],
   "source": [
    "import torch\n",
    "import lightning\n",
    "import jupyter_black\n",
    "\n",
    "from models import WGAN\n",
    "from data import SubstratesDataModule\n",
    "from constants import VALIDATION_SUBSTRATES_PATH\n",
    "from lightning.pytorch.loggers import TensorBoardLogger\n",
    "\n",
    "torch.set_float32_matmul_precision(precision=\"high\")\n",
    "jupyter_black.load()"
   ]
  },
  {
   "cell_type": "code",
   "execution_count": 4,
   "metadata": {},
   "outputs": [
    {
     "name": "stderr",
     "output_type": "stream",
     "text": [
      "GPU available: True (cuda), used: True\n",
      "TPU available: False, using: 0 TPU cores\n",
      "IPU available: False, using: 0 IPUs\n",
      "HPU available: False, using: 0 HPUs\n",
      "LOCAL_RANK: 0 - CUDA_VISIBLE_DEVICES: [0]\n",
      "\n",
      "  | Name | Type          | Params\n",
      "---------------------------------------\n",
      "0 | D    | Discriminator | 2.8 M \n",
      "1 | G    | Generator     | 3.6 M \n",
      "---------------------------------------\n",
      "6.3 M     Trainable params\n",
      "0         Non-trainable params\n",
      "6.3 M     Total params\n",
      "25.353    Total estimated model params size (MB)\n",
      "/opt/conda/envs/venv/lib/python3.10/site-packages/lightning/pytorch/trainer/connectors/data_connector.py:430: PossibleUserWarning: The dataloader, train_dataloader, does not have many workers which may be a bottleneck. Consider increasing the value of the `num_workers` argument` (try 32 which is the number of cpus on this machine) in the `DataLoader` init to improve performance.\n",
      "  rank_zero_warn(\n"
     ]
    },
    {
     "data": {
      "application/vnd.jupyter.widget-view+json": {
       "model_id": "bc918842c86f4f68a30b0f1cf5f0269e",
       "version_major": 2,
       "version_minor": 0
      },
      "text/plain": [
       "Training: 0it [00:00, ?it/s]"
      ]
     },
     "metadata": {},
     "output_type": "display_data"
    },
    {
     "name": "stderr",
     "output_type": "stream",
     "text": [
      "`Trainer.fit` stopped: `max_epochs=100` reached.\n"
     ]
    }
   ],
   "source": [
    "# Data Module hyper parameters\n",
    "BATCH_SIZE = 256\n",
    "NUM_WORKERS = 0\n",
    "SHUFFLE = True\n",
    "\n",
    "# Trainer hyper parameteres\n",
    "MAX_EPOCHS = 100\n",
    "\n",
    "# WGAN hyper parameters\n",
    "D_LR = 0.0002\n",
    "G_LR = 0.001\n",
    "G_OPTIM_FREQUENCY = 1\n",
    "D_OPTIM_FREQUENCY = 3\n",
    "G_LATENT_DIMS = 100\n",
    "\n",
    "substrate_data_module = SubstratesDataModule(\n",
    "    batch_size=BATCH_SIZE, num_workers=NUM_WORKERS, shuffle=SHUFFLE\n",
    ")\n",
    "\n",
    "wgan = WGAN(\n",
    "    G_latent_dims=G_LATENT_DIMS,\n",
    "    D_lr=D_LR,\n",
    "    G_lr=G_LR,\n",
    "    G_optim_frequency=G_OPTIM_FREQUENCY,\n",
    "    D_optim_frequency=D_OPTIM_FREQUENCY,\n",
    "    val_imgs_dir_path=VALIDATION_SUBSTRATES_PATH,\n",
    ")\n",
    "\n",
    "trainer = lightning.Trainer(\n",
    "    max_epochs=MAX_EPOCHS,\n",
    "    accelerator=\"gpu\",\n",
    "    devices=1,\n",
    "    log_every_n_steps=10,\n",
    "    logger=TensorBoardLogger(save_dir=\"../../logs/substrates_wgan\"),\n",
    ")\n",
    "trainer.fit(wgan, substrate_data_module)"
   ]
  }
 ],
 "metadata": {
  "kernelspec": {
   "display_name": "venv",
   "language": "python",
   "name": "python3"
  },
  "language_info": {
   "codemirror_mode": {
    "name": "ipython",
    "version": 3
   },
   "file_extension": ".py",
   "mimetype": "text/x-python",
   "name": "python",
   "nbconvert_exporter": "python",
   "pygments_lexer": "ipython3",
   "version": "3.10.9"
  },
  "orig_nbformat": 4
 },
 "nbformat": 4,
 "nbformat_minor": 2
}
